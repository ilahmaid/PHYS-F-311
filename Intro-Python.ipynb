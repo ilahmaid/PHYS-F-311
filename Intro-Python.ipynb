{
 "cells": [
  {
   "cell_type": "markdown",
   "metadata": {},
   "source": [
    "# Intro Python PHYS-311"
   ]
  },
  {
   "cell_type": "markdown",
   "metadata": {},
   "source": [
    "Now we are going to import some modules that we will use in our notebook, <code> numpy </code>, <code> scipy </code> and <code> matplotlib </code>. We will use an alias for each of the modules."
   ]
  },
  {
   "cell_type": "code",
   "execution_count": 2,
   "metadata": {
    "collapsed": true
   },
   "outputs": [],
   "source": [
    "%matplotlib inline\n",
    "import numpy as np\n",
    "import scipy as sp\n",
    "import matplotlib.pylab as plt\n",
    "#The next line is not useful if you use Python 3\n",
    "from __future__ import print_function, division # bring the print function and division of Python3 to 2.7"
   ]
  },
  {
   "cell_type": "markdown",
   "metadata": {},
   "source": [
    "### Variables"
   ]
  },
  {
   "cell_type": "markdown",
   "metadata": {},
   "source": [
    "Python doesn't require explicitly declared variable types, like C and other languages do. Just assign a variable and Python understands what you want:"
   ]
  },
  {
   "cell_type": "code",
   "execution_count": 4,
   "metadata": {
    "collapsed": true
   },
   "outputs": [],
   "source": [
    "a = 5      # a is an integer 5\n",
    "b = 'five' # b is a string of the word 'five'\n",
    "c = 5.0    # c is a floating point 5  "
   ]
  },
  {
   "cell_type": "markdown",
   "metadata": {},
   "source": [
    "You can ask python to tell you the type of the variable"
   ]
  },
  {
   "cell_type": "code",
   "execution_count": 5,
   "metadata": {},
   "outputs": [
    {
     "name": "stdout",
     "output_type": "stream",
     "text": [
      "<type 'int'> <type 'str'> <type 'float'>\n"
     ]
    }
   ],
   "source": [
    "print(type(a), type(b), type(c))"
   ]
  },
  {
   "cell_type": "markdown",
   "metadata": {},
   "source": [
    "#### Lists\n",
    "\n",
    "Lists in python are like C arrays except that each element can be of any type.\n",
    "The syntax for creating lists in Python is [...]:"
   ]
  },
  {
   "cell_type": "code",
   "execution_count": 6,
   "metadata": {},
   "outputs": [
    {
     "name": "stdout",
     "output_type": "stream",
     "text": [
      "<type 'list'>\n"
     ]
    }
   ],
   "source": [
    "l = [23, 234, 3.1416, 45, 341, 33, \"I am in a list\", True]\n",
    "print (type(l))"
   ]
  },
  {
   "cell_type": "markdown",
   "metadata": {},
   "source": [
    "We can use the same slicing techniques to manipulate lists:"
   ]
  },
  {
   "cell_type": "code",
   "execution_count": 7,
   "metadata": {},
   "outputs": [
    {
     "name": "stdout",
     "output_type": "stream",
     "text": [
      "[234, 3.1416, 45]\n",
      "True\n",
      "45\n",
      "[23, 234, 3.1416, 45, 341, 33, 'I am in a list', True]\n",
      "[23, 3.1416, 341, 'I am in a list']\n"
     ]
    }
   ],
   "source": [
    "print (l[1:4]) # slides of elements from 1 to 2\n",
    "print (l[-1]) #last element\n",
    "print (l[3]) # third element\n",
    "print (l[:]) #all elements (Same as l)\n",
    "print (l[::2]) #elements from 0 to last in steps of 2"
   ]
  },
  {
   "cell_type": "markdown",
   "metadata": {},
   "source": [
    "The function <code> range </code> in python is widely use to generate enumeration lists:"
   ]
  },
  {
   "cell_type": "code",
   "execution_count": 8,
   "metadata": {},
   "outputs": [
    {
     "name": "stdout",
     "output_type": "stream",
     "text": [
      "[2, 4, 6, 8]\n"
     ]
    }
   ],
   "source": [
    "print (range(2, 10, 2)) # range from 2 to 10 in steps of 2. End point is omitted!"
   ]
  },
  {
   "cell_type": "markdown",
   "metadata": {},
   "source": [
    "### Functions"
   ]
  },
  {
   "cell_type": "markdown",
   "metadata": {},
   "source": [
    "A function is a block of organized, reusable code that is used to perform a single, related action. Functions provide better modularity for your application and a high degree of code reusing. As you already know, python gives you many built-in functions like print(), etc. but you can also create your own functions. The syntax for functions is:\n",
    "\n",
    "```python\n",
    "def functionname( parameters ):\n",
    "   \"\"\"docstring\"\"\"\n",
    "   code\n",
    "   return something\n",
    "```\n",
    "\n",
    "An example is:"
   ]
  },
  {
   "cell_type": "code",
   "execution_count": 10,
   "metadata": {},
   "outputs": [
    {
     "name": "stdout",
     "output_type": "stream",
     "text": [
      "16\n"
     ]
    }
   ],
   "source": [
    "def mypower(x, power):\n",
    "    return x**power\n",
    "\n",
    "print (mypower(4,2))"
   ]
  },
  {
   "cell_type": "code",
   "execution_count": 19,
   "metadata": {},
   "outputs": [
    {
     "name": "stdout",
     "output_type": "stream",
     "text": [
      "0 0.703125\n"
     ]
    }
   ],
   "source": [
    "def myfunction(x):\n",
    "    if x < -1 or x > 1:\n",
    "        return 0\n",
    "    else:\n",
    "        return 15./4. * (x**2 - x**4)\n",
    "    \n",
    "print (myfunction(3), myfunction(0.5))"
   ]
  },
  {
   "cell_type": "markdown",
   "metadata": {},
   "source": [
    "### The power of Python: Modules"
   ]
  },
  {
   "cell_type": "markdown",
   "metadata": {},
   "source": [
    "Most of the functionality in Python is provided by *modules*. The Python Standard Library is a large collection of modules that provides *cross-platform* implementations of common facilities such as access to the operating system, file I/O, string management, network communication, and much more.\n",
    "\n",
    "* Must haves\n",
    "    * [numpy](www.numpy.org): random numbers, arrays, transcendental functions, linear algebra.\n",
    "    * `scipy`: statistical tests, special functions, integration, curve fitting, minimization.\n",
    "    * `matplotlib`: plotting: xy plots, error bars, contour plots, histograms.\n"
   ]
  },
  {
   "cell_type": "markdown",
   "metadata": {},
   "source": [
    "### Importing style"
   ]
  },
  {
   "cell_type": "markdown",
   "metadata": {},
   "source": [
    "There are several ways to load a module for example, in the case of numpy we could do:\n",
    "\n",
    "**Option 1**:  \n",
    "```Python \n",
    "import numpy\n",
    "x = numpy.cos(2 * numpy.pi)\n",
    "```\n",
    "\n",
    "**Option 2**:  \n",
    "```Python \n",
    "import numpy as np\n",
    "x = np.cos(2 * np.pi)\n",
    "```\n",
    "\n",
    "**Option 3**:  \n",
    "```Python \n",
    "from numpy import cos, pi\n",
    "x = cos(2 * pi)\n",
    "```\n",
    "\n",
    "**Option 4**:  \n",
    "```Python \n",
    "from numpy import *\n",
    "x = cos(2 * pi)\n",
    "```\n",
    "\n",
    "Options **1** and **2** are the preferred one. They allowed you to keep each function related to its function. For example, there is another module `math` with a the function `cos` implemented, by keeping the `np.cos` or `numpy.cos` you avoid confusion between them. Option **3** might be used we need access only to some of the functions inside the module. Option **4** saves a lot of typing but is sloppy and **not recommended**. \n",
    "\n",
    "\n",
    "Explicit is better than implicit"
   ]
  },
  {
   "cell_type": "markdown",
   "metadata": {},
   "source": [
    "### The numpy module"
   ]
  },
  {
   "cell_type": "markdown",
   "metadata": {},
   "source": [
    "The <code>numpy</code> package (module) is used in almost all numerical computation using Python. It is a package that provide high-performance vector, matrix and higher-dimensional data structures for Python. It is implemented in C and <code>Fortran</code> so when calculations are vectorized (formulated with vectors and matrices), performance is very good. \n",
    "\n",
    "The central feature of NumPy is the array object class. Arrays are similar to lists in Python, except that every element of an array must be of the same type, typically a numeric type like float or int. Arrays make operations with large amounts of numeric data very fast and are generally much more efficient than lists. An array can be created from a list by using the array function. You can use the second argument to specify what type of data is in the list or leave it out entirely for numpy to decided what kind of data it is."
   ]
  },
  {
   "cell_type": "code",
   "execution_count": 12,
   "metadata": {},
   "outputs": [
    {
     "name": "stdout",
     "output_type": "stream",
     "text": [
      "[ 1.  4.  5.  8.]\n",
      "<type 'numpy.ndarray'>\n"
     ]
    }
   ],
   "source": [
    "a = np.array([1, 4, 5, 8], float) \n",
    "print (a)\n",
    "print (type(a))"
   ]
  },
  {
   "cell_type": "markdown",
   "metadata": {},
   "source": [
    "Arrays can be multidimensional. Unlike lists, different axes are accessed using commas inside bracket notation. Here is an example with a two-dimensional array (aka, a matrix)"
   ]
  },
  {
   "cell_type": "code",
   "execution_count": 13,
   "metadata": {},
   "outputs": [
    {
     "name": "stdout",
     "output_type": "stream",
     "text": [
      "[[ 1.  2.  3.]\n",
      " [ 4.  5.  6.]]\n",
      "1.0\n",
      "2.0\n"
     ]
    }
   ],
   "source": [
    "a = np.array([[1, 2, 3], [4, 5, 6]], float) \n",
    "print (a)\n",
    "print (a[0,0])\n",
    "print (a[0,1])"
   ]
  },
  {
   "cell_type": "markdown",
   "metadata": {},
   "source": [
    "Array slicing works with multiple dimensions in the same way as usual, applying each slice specification as a filter to a specified dimension. Use of a single \":\" in a dimension indicates the use of everything along that dimension. \n"
   ]
  },
  {
   "cell_type": "code",
   "execution_count": 15,
   "metadata": {},
   "outputs": [
    {
     "name": "stdout",
     "output_type": "stream",
     "text": [
      "[ 4.  5.  6.]\n",
      "[ 3.  6.]\n",
      "[[ 5.  6.]]\n"
     ]
    }
   ],
   "source": [
    "print (a[1,:])\n",
    "print (a[:,2])\n",
    "print (a[-1:,-2:])"
   ]
  },
  {
   "cell_type": "markdown",
   "metadata": {},
   "source": [
    "The shape property of an array returns a tuple with the size of each array dimension: "
   ]
  },
  {
   "cell_type": "code",
   "execution_count": 16,
   "metadata": {},
   "outputs": [
    {
     "data": {
      "text/plain": [
       "(2, 3)"
      ]
     },
     "execution_count": 16,
     "metadata": {},
     "output_type": "execute_result"
    }
   ],
   "source": [
    "a.shape"
   ]
  },
  {
   "cell_type": "markdown",
   "metadata": {},
   "source": [
    "Functions in <code>numpy</code> are vectorized meaning they can take arrays as arguments:"
   ]
  },
  {
   "cell_type": "code",
   "execution_count": 17,
   "metadata": {},
   "outputs": [
    {
     "name": "stdout",
     "output_type": "stream",
     "text": [
      "1.0\n",
      "[[  1.   4.   9.]\n",
      " [ 16.  25.  36.]]\n"
     ]
    }
   ],
   "source": [
    "x = a[0,0] #this is a scaler\n",
    "print (np.power(x,2))\n",
    "print (np.power(a,2))"
   ]
  },
  {
   "cell_type": "markdown",
   "metadata": {},
   "source": [
    "This will not work with our function defined with conditions, example:"
   ]
  },
  {
   "cell_type": "code",
   "execution_count": 18,
   "metadata": {},
   "outputs": [
    {
     "ename": "NameError",
     "evalue": "name 'myfunction' is not defined",
     "output_type": "error",
     "traceback": [
      "\u001b[0;31m---------------------------------------------------------------------------\u001b[0m",
      "\u001b[0;31mNameError\u001b[0m                                 Traceback (most recent call last)",
      "\u001b[0;32m<ipython-input-18-775975051cc1>\u001b[0m in \u001b[0;36m<module>\u001b[0;34m()\u001b[0m\n\u001b[1;32m      1\u001b[0m \u001b[0mx\u001b[0m \u001b[0;34m=\u001b[0m \u001b[0mnp\u001b[0m\u001b[0;34m.\u001b[0m\u001b[0mlinspace\u001b[0m\u001b[0;34m(\u001b[0m\u001b[0;34m-\u001b[0m\u001b[0;36m1\u001b[0m\u001b[0;34m,\u001b[0m \u001b[0;36m1\u001b[0m\u001b[0;34m,\u001b[0m \u001b[0;36m50\u001b[0m\u001b[0;34m,\u001b[0m \u001b[0mendpoint\u001b[0m\u001b[0;34m=\u001b[0m\u001b[0mTrue\u001b[0m\u001b[0;34m)\u001b[0m \u001b[0;31m# this creates an array between -1, 1 with 50 points\u001b[0m\u001b[0;34m\u001b[0m\u001b[0m\n\u001b[0;32m----> 2\u001b[0;31m \u001b[0;32mprint\u001b[0m \u001b[0;34m(\u001b[0m\u001b[0mmyfunction\u001b[0m\u001b[0;34m(\u001b[0m\u001b[0mx\u001b[0m\u001b[0;34m)\u001b[0m\u001b[0;34m)\u001b[0m\u001b[0;34m\u001b[0m\u001b[0m\n\u001b[0m",
      "\u001b[0;31mNameError\u001b[0m: name 'myfunction' is not defined"
     ]
    }
   ],
   "source": [
    "x = np.linspace(-1, 1, 50, endpoint=True) # this creates an array between -1, 1 with 50 points\n",
    "print (myfunction(x))"
   ]
  },
  {
   "cell_type": "markdown",
   "metadata": {},
   "source": [
    "We can handle better errors by using the function:\n",
    "```Python\n",
    "    try:\n",
    "        statement\n",
    "    except:\n",
    "        print(\"Caught an exception\")\n",
    "```\n",
    "To get information about the error, we can access the Exception class instance that describes the\n",
    "exception by using for example:"
   ]
  },
  {
   "cell_type": "code",
   "execution_count": 20,
   "metadata": {},
   "outputs": [
    {
     "name": "stdout",
     "output_type": "stream",
     "text": [
      "Caught exception: The truth value of an array with more than one element is ambiguous. Use a.any() or a.all()\n"
     ]
    }
   ],
   "source": [
    "try:\n",
    "    myfunction(x)\n",
    "except Exception as e:\n",
    "    print(\"Caught exception: %s\"%e)"
   ]
  },
  {
   "cell_type": "markdown",
   "metadata": {},
   "source": [
    "To avoid this error we can *vectorized* our function using the `numpy` function `np.vectorize(function)`:"
   ]
  },
  {
   "cell_type": "code",
   "execution_count": 21,
   "metadata": {},
   "outputs": [
    {
     "name": "stdout",
     "output_type": "stream",
     "text": [
      "[ 0.          0.27589504  0.4952903   0.66393098  0.78731252  0.87068053\n",
      "  0.91903086  0.93710954  0.92941283  0.90018719  0.85342929  0.792886\n",
      "  0.72205441  0.64418182  0.56226572  0.47905383  0.39704406  0.31848454\n",
      "  0.2453736   0.17945979  0.12224186  0.07496876  0.03863967  0.01400395\n",
      "  0.0015612   0.0015612   0.01400395  0.03863967  0.07496876  0.12224186\n",
      "  0.17945979  0.2453736   0.31848454  0.39704406  0.47905383  0.56226572\n",
      "  0.64418182  0.72205441  0.792886    0.85342929  0.90018719  0.92941283\n",
      "  0.93710954  0.91903086  0.87068053  0.78731252  0.66393098  0.4952903\n",
      "  0.27589504  0.        ]\n"
     ]
    }
   ],
   "source": [
    "vmyfunction = np.vectorize(myfunction)\n",
    "\n",
    "y = vmyfunction(x)\n",
    "\n",
    "print (y)"
   ]
  },
  {
   "cell_type": "markdown",
   "metadata": {},
   "source": [
    "### The matplotlib module\n",
    "\n",
    "Matplotlib is an excellent 2D and 3D graphics library for generating scientific figures. The tidy thing to import matplotlib.pyplot matplotlib.pyplot module under the name plt (the tidy way):"
   ]
  },
  {
   "cell_type": "code",
   "execution_count": 22,
   "metadata": {},
   "outputs": [
    {
     "data": {
      "image/png": "[encoded data removed]",
      "text/plain": [
       "<matplotlib.figure.Figure at 0x106244c90>"
      ]
     },
     "metadata": {},
     "output_type": "display_data"
    }
   ],
   "source": [
    "fig = plt.figure(figsize=(8,6))\n",
    "\n",
    "#fig, ax = plt.subplots(figsize=(8,6)) Another way to generate figure and axes at the same time\n",
    "\n",
    "ax = fig.add_axes([0.1, 0.1, 0.8, 0.8]) # left, bottom, width, height (range 0 to 1)\n",
    "\n",
    "ax.plot(x, y, 'b--', lw=4)\n",
    "\n",
    "ax.set_xlabel('x')\n",
    "ax.set_ylabel('y')\n",
    "ax.set_xlim(-1,1)\n",
    "ax.grid()\n",
    "ax.set_title('My Function');"
   ]
  },
  {
   "cell_type": "markdown",
   "metadata": {},
   "source": [
    "We can use numpy also to calculate the integral using the trapezoidal method:"
   ]
  },
  {
   "cell_type": "code",
   "execution_count": 23,
   "metadata": {},
   "outputs": [
    {
     "name": "stdout",
     "output_type": "stream",
     "text": [
      "The integral of the function is 0.9979\n"
     ]
    }
   ],
   "source": [
    "dx = np.diff(x)[0] # numpy diff calcualtes the difference of x[i+1] - x[i], it returns an array.\n",
    "integral = np.trapz(y, dx = dx )\n",
    "print (\"The integral of the function is %.4f\"%integral)\n"
   ]
  }
 ],
 "metadata": {
  "hide_input": false,
  "kernelspec": {
   "display_name": "Python 2",
   "language": "python",
   "name": "python2"
  },
  "language_info": {
   "codemirror_mode": {
    "name": "ipython",
    "version": 2
   },
   "file_extension": ".py",
   "mimetype": "text/x-python",
   "name": "python",
   "nbconvert_exporter": "python",
   "pygments_lexer": "ipython2",
   "version": "2.7.9"
  },
  "latex_envs": {
   "bibliofile": "biblio.bib",
   "cite_by": "apalike",
   "current_citInitial": 1,
   "eqLabelWithNumbers": true,
   "eqNumInitial": 0
  }
 },
 "nbformat": 4,
 "nbformat_minor": 2
}
